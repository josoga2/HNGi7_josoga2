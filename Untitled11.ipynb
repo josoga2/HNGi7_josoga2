{
  "nbformat": 4,
  "nbformat_minor": 0,
  "metadata": {
    "colab": {
      "name": "Untitled11.ipynb",
      "provenance": []
    },
    "kernelspec": {
      "name": "python3",
      "display_name": "Python 3"
    }
  },
  "cells": [
    {
      "cell_type": "code",
      "metadata": {
        "id": "mUEnJ_1kmkGB",
        "colab_type": "code",
        "colab": {}
      },
      "source": [
        "import pandas as pd"
      ],
      "execution_count": 1,
      "outputs": []
    },
    {
      "cell_type": "code",
      "metadata": {
        "id": "J0crOeCGrEC7",
        "colab_type": "code",
        "colab": {}
      },
      "source": [
        "df = pd.read_csv('df.csv')"
      ],
      "execution_count": 2,
      "outputs": []
    },
    {
      "cell_type": "code",
      "metadata": {
        "id": "HRX3GurmrIw_",
        "colab_type": "code",
        "colab": {
          "base_uri": "https://localhost:8080/",
          "height": 394
        },
        "outputId": "e0a78a1f-fad4-4e29-97cb-ac8dfccd2aa8"
      },
      "source": [
        "df.head()"
      ],
      "execution_count": 3,
      "outputs": [
        {
          "output_type": "execute_result",
          "data": {
            "text/html": [
              "<div>\n",
              "<style scoped>\n",
              "    .dataframe tbody tr th:only-of-type {\n",
              "        vertical-align: middle;\n",
              "    }\n",
              "\n",
              "    .dataframe tbody tr th {\n",
              "        vertical-align: top;\n",
              "    }\n",
              "\n",
              "    .dataframe thead th {\n",
              "        text-align: right;\n",
              "    }\n",
              "</style>\n",
              "<table border=\"1\" class=\"dataframe\">\n",
              "  <thead>\n",
              "    <tr style=\"text-align: right;\">\n",
              "      <th></th>\n",
              "      <th>date</th>\n",
              "      <th>Appliances</th>\n",
              "      <th>lights</th>\n",
              "      <th>T1</th>\n",
              "      <th>RH_1</th>\n",
              "      <th>T2</th>\n",
              "      <th>RH_2</th>\n",
              "      <th>T3</th>\n",
              "      <th>RH_3</th>\n",
              "      <th>T4</th>\n",
              "      <th>RH_4</th>\n",
              "      <th>T5</th>\n",
              "      <th>RH_5</th>\n",
              "      <th>T6</th>\n",
              "      <th>RH_6</th>\n",
              "      <th>T7</th>\n",
              "      <th>RH_7</th>\n",
              "      <th>T8</th>\n",
              "      <th>RH_8</th>\n",
              "      <th>T9</th>\n",
              "      <th>RH_9</th>\n",
              "      <th>T_out</th>\n",
              "      <th>Press_mm_hg</th>\n",
              "      <th>RH_out</th>\n",
              "      <th>Windspeed</th>\n",
              "      <th>Visibility</th>\n",
              "      <th>Tdewpoint</th>\n",
              "      <th>rv1</th>\n",
              "      <th>rv2</th>\n",
              "    </tr>\n",
              "  </thead>\n",
              "  <tbody>\n",
              "    <tr>\n",
              "      <th>0</th>\n",
              "      <td>2016-01-11 17:00:00</td>\n",
              "      <td>60</td>\n",
              "      <td>30</td>\n",
              "      <td>19.89</td>\n",
              "      <td>47.596667</td>\n",
              "      <td>19.2</td>\n",
              "      <td>44.790000</td>\n",
              "      <td>19.79</td>\n",
              "      <td>44.730000</td>\n",
              "      <td>19.000000</td>\n",
              "      <td>45.566667</td>\n",
              "      <td>17.166667</td>\n",
              "      <td>55.20</td>\n",
              "      <td>7.026667</td>\n",
              "      <td>84.256667</td>\n",
              "      <td>17.200000</td>\n",
              "      <td>41.626667</td>\n",
              "      <td>18.2</td>\n",
              "      <td>48.900000</td>\n",
              "      <td>17.033333</td>\n",
              "      <td>45.53</td>\n",
              "      <td>6.600000</td>\n",
              "      <td>733.5</td>\n",
              "      <td>92.0</td>\n",
              "      <td>7.000000</td>\n",
              "      <td>63.000000</td>\n",
              "      <td>5.3</td>\n",
              "      <td>13.275433</td>\n",
              "      <td>13.275433</td>\n",
              "    </tr>\n",
              "    <tr>\n",
              "      <th>1</th>\n",
              "      <td>2016-01-11 17:10:00</td>\n",
              "      <td>60</td>\n",
              "      <td>30</td>\n",
              "      <td>19.89</td>\n",
              "      <td>46.693333</td>\n",
              "      <td>19.2</td>\n",
              "      <td>44.722500</td>\n",
              "      <td>19.79</td>\n",
              "      <td>44.790000</td>\n",
              "      <td>19.000000</td>\n",
              "      <td>45.992500</td>\n",
              "      <td>17.166667</td>\n",
              "      <td>55.20</td>\n",
              "      <td>6.833333</td>\n",
              "      <td>84.063333</td>\n",
              "      <td>17.200000</td>\n",
              "      <td>41.560000</td>\n",
              "      <td>18.2</td>\n",
              "      <td>48.863333</td>\n",
              "      <td>17.066667</td>\n",
              "      <td>45.56</td>\n",
              "      <td>6.483333</td>\n",
              "      <td>733.6</td>\n",
              "      <td>92.0</td>\n",
              "      <td>6.666667</td>\n",
              "      <td>59.166667</td>\n",
              "      <td>5.2</td>\n",
              "      <td>18.606195</td>\n",
              "      <td>18.606195</td>\n",
              "    </tr>\n",
              "    <tr>\n",
              "      <th>2</th>\n",
              "      <td>2016-01-11 17:20:00</td>\n",
              "      <td>50</td>\n",
              "      <td>30</td>\n",
              "      <td>19.89</td>\n",
              "      <td>46.300000</td>\n",
              "      <td>19.2</td>\n",
              "      <td>44.626667</td>\n",
              "      <td>19.79</td>\n",
              "      <td>44.933333</td>\n",
              "      <td>18.926667</td>\n",
              "      <td>45.890000</td>\n",
              "      <td>17.166667</td>\n",
              "      <td>55.09</td>\n",
              "      <td>6.560000</td>\n",
              "      <td>83.156667</td>\n",
              "      <td>17.200000</td>\n",
              "      <td>41.433333</td>\n",
              "      <td>18.2</td>\n",
              "      <td>48.730000</td>\n",
              "      <td>17.000000</td>\n",
              "      <td>45.50</td>\n",
              "      <td>6.366667</td>\n",
              "      <td>733.7</td>\n",
              "      <td>92.0</td>\n",
              "      <td>6.333333</td>\n",
              "      <td>55.333333</td>\n",
              "      <td>5.1</td>\n",
              "      <td>28.642668</td>\n",
              "      <td>28.642668</td>\n",
              "    </tr>\n",
              "    <tr>\n",
              "      <th>3</th>\n",
              "      <td>2016-01-11 17:30:00</td>\n",
              "      <td>50</td>\n",
              "      <td>40</td>\n",
              "      <td>19.89</td>\n",
              "      <td>46.066667</td>\n",
              "      <td>19.2</td>\n",
              "      <td>44.590000</td>\n",
              "      <td>19.79</td>\n",
              "      <td>45.000000</td>\n",
              "      <td>18.890000</td>\n",
              "      <td>45.723333</td>\n",
              "      <td>17.166667</td>\n",
              "      <td>55.09</td>\n",
              "      <td>6.433333</td>\n",
              "      <td>83.423333</td>\n",
              "      <td>17.133333</td>\n",
              "      <td>41.290000</td>\n",
              "      <td>18.1</td>\n",
              "      <td>48.590000</td>\n",
              "      <td>17.000000</td>\n",
              "      <td>45.40</td>\n",
              "      <td>6.250000</td>\n",
              "      <td>733.8</td>\n",
              "      <td>92.0</td>\n",
              "      <td>6.000000</td>\n",
              "      <td>51.500000</td>\n",
              "      <td>5.0</td>\n",
              "      <td>45.410389</td>\n",
              "      <td>45.410389</td>\n",
              "    </tr>\n",
              "    <tr>\n",
              "      <th>4</th>\n",
              "      <td>2016-01-11 17:40:00</td>\n",
              "      <td>60</td>\n",
              "      <td>40</td>\n",
              "      <td>19.89</td>\n",
              "      <td>46.333333</td>\n",
              "      <td>19.2</td>\n",
              "      <td>44.530000</td>\n",
              "      <td>19.79</td>\n",
              "      <td>45.000000</td>\n",
              "      <td>18.890000</td>\n",
              "      <td>45.530000</td>\n",
              "      <td>17.200000</td>\n",
              "      <td>55.09</td>\n",
              "      <td>6.366667</td>\n",
              "      <td>84.893333</td>\n",
              "      <td>17.200000</td>\n",
              "      <td>41.230000</td>\n",
              "      <td>18.1</td>\n",
              "      <td>48.590000</td>\n",
              "      <td>17.000000</td>\n",
              "      <td>45.40</td>\n",
              "      <td>6.133333</td>\n",
              "      <td>733.9</td>\n",
              "      <td>92.0</td>\n",
              "      <td>5.666667</td>\n",
              "      <td>47.666667</td>\n",
              "      <td>4.9</td>\n",
              "      <td>10.084097</td>\n",
              "      <td>10.084097</td>\n",
              "    </tr>\n",
              "  </tbody>\n",
              "</table>\n",
              "</div>"
            ],
            "text/plain": [
              "                  date  Appliances  lights  ...  Tdewpoint        rv1        rv2\n",
              "0  2016-01-11 17:00:00          60      30  ...        5.3  13.275433  13.275433\n",
              "1  2016-01-11 17:10:00          60      30  ...        5.2  18.606195  18.606195\n",
              "2  2016-01-11 17:20:00          50      30  ...        5.1  28.642668  28.642668\n",
              "3  2016-01-11 17:30:00          50      40  ...        5.0  45.410389  45.410389\n",
              "4  2016-01-11 17:40:00          60      40  ...        4.9  10.084097  10.084097\n",
              "\n",
              "[5 rows x 29 columns]"
            ]
          },
          "metadata": {
            "tags": []
          },
          "execution_count": 3
        }
      ]
    },
    {
      "cell_type": "code",
      "metadata": {
        "id": "R40qCOL7rJzs",
        "colab_type": "code",
        "colab": {
          "base_uri": "https://localhost:8080/",
          "height": 34
        },
        "outputId": "b264b96e-f4a1-4063-a6d8-1fd47ba3aa34"
      },
      "source": [
        "df.shape"
      ],
      "execution_count": 4,
      "outputs": [
        {
          "output_type": "execute_result",
          "data": {
            "text/plain": [
              "(19735, 29)"
            ]
          },
          "metadata": {
            "tags": []
          },
          "execution_count": 4
        }
      ]
    },
    {
      "cell_type": "code",
      "metadata": {
        "id": "69Tc3d9Et5t7",
        "colab_type": "code",
        "colab": {}
      },
      "source": [
        "df = df.drop(['date', 'lights'], axis=1)"
      ],
      "execution_count": 5,
      "outputs": []
    },
    {
      "cell_type": "code",
      "metadata": {
        "id": "iQHbXzDuuKh9",
        "colab_type": "code",
        "colab": {
          "base_uri": "https://localhost:8080/",
          "height": 102
        },
        "outputId": "680af3d9-38ba-4a43-befe-d02b8c0da136"
      },
      "source": [
        "df.columns"
      ],
      "execution_count": 9,
      "outputs": [
        {
          "output_type": "execute_result",
          "data": {
            "text/plain": [
              "Index(['Appliances', 'T1', 'RH_1', 'T2', 'RH_2', 'T3', 'RH_3', 'T4', 'RH_4',\n",
              "       'T5', 'RH_5', 'T6', 'RH_6', 'T7', 'RH_7', 'T8', 'RH_8', 'T9', 'RH_9',\n",
              "       'T_out', 'Press_mm_hg', 'RH_out', 'Windspeed', 'Visibility',\n",
              "       'Tdewpoint', 'rv1', 'rv2'],\n",
              "      dtype='object')"
            ]
          },
          "metadata": {
            "tags": []
          },
          "execution_count": 9
        }
      ]
    },
    {
      "cell_type": "code",
      "metadata": {
        "id": "a-YmyEJBrLSA",
        "colab_type": "code",
        "colab": {}
      },
      "source": [
        "from sklearn.preprocessing import MinMaxScaler\n",
        "scaler = MinMaxScaler()\n",
        "normalised_df = pd.DataFrame(scaler.fit_transform(df), columns=df.columns)\n"
      ],
      "execution_count": 10,
      "outputs": []
    },
    {
      "cell_type": "code",
      "metadata": {
        "id": "_PXjiy2yuRug",
        "colab_type": "code",
        "colab": {
          "base_uri": "https://localhost:8080/",
          "height": 224
        },
        "outputId": "cdfe7dec-d4c3-4aba-874f-7d76e4ea1a61"
      },
      "source": [
        "normalised_df.head()"
      ],
      "execution_count": 11,
      "outputs": [
        {
          "output_type": "execute_result",
          "data": {
            "text/html": [
              "<div>\n",
              "<style scoped>\n",
              "    .dataframe tbody tr th:only-of-type {\n",
              "        vertical-align: middle;\n",
              "    }\n",
              "\n",
              "    .dataframe tbody tr th {\n",
              "        vertical-align: top;\n",
              "    }\n",
              "\n",
              "    .dataframe thead th {\n",
              "        text-align: right;\n",
              "    }\n",
              "</style>\n",
              "<table border=\"1\" class=\"dataframe\">\n",
              "  <thead>\n",
              "    <tr style=\"text-align: right;\">\n",
              "      <th></th>\n",
              "      <th>Appliances</th>\n",
              "      <th>T1</th>\n",
              "      <th>RH_1</th>\n",
              "      <th>T2</th>\n",
              "      <th>RH_2</th>\n",
              "      <th>T3</th>\n",
              "      <th>RH_3</th>\n",
              "      <th>T4</th>\n",
              "      <th>RH_4</th>\n",
              "      <th>T5</th>\n",
              "      <th>RH_5</th>\n",
              "      <th>T6</th>\n",
              "      <th>RH_6</th>\n",
              "      <th>T7</th>\n",
              "      <th>RH_7</th>\n",
              "      <th>T8</th>\n",
              "      <th>RH_8</th>\n",
              "      <th>T9</th>\n",
              "      <th>RH_9</th>\n",
              "      <th>T_out</th>\n",
              "      <th>Press_mm_hg</th>\n",
              "      <th>RH_out</th>\n",
              "      <th>Windspeed</th>\n",
              "      <th>Visibility</th>\n",
              "      <th>Tdewpoint</th>\n",
              "      <th>rv1</th>\n",
              "      <th>rv2</th>\n",
              "    </tr>\n",
              "  </thead>\n",
              "  <tbody>\n",
              "    <tr>\n",
              "      <th>0</th>\n",
              "      <td>0.046729</td>\n",
              "      <td>0.32735</td>\n",
              "      <td>0.566187</td>\n",
              "      <td>0.225345</td>\n",
              "      <td>0.684038</td>\n",
              "      <td>0.215188</td>\n",
              "      <td>0.746066</td>\n",
              "      <td>0.351351</td>\n",
              "      <td>0.764262</td>\n",
              "      <td>0.175506</td>\n",
              "      <td>0.381691</td>\n",
              "      <td>0.381070</td>\n",
              "      <td>0.841827</td>\n",
              "      <td>0.170594</td>\n",
              "      <td>0.653428</td>\n",
              "      <td>0.173329</td>\n",
              "      <td>0.661412</td>\n",
              "      <td>0.223032</td>\n",
              "      <td>0.677290</td>\n",
              "      <td>0.372990</td>\n",
              "      <td>0.097674</td>\n",
              "      <td>0.894737</td>\n",
              "      <td>0.500000</td>\n",
              "      <td>0.953846</td>\n",
              "      <td>0.538462</td>\n",
              "      <td>0.265449</td>\n",
              "      <td>0.265449</td>\n",
              "    </tr>\n",
              "    <tr>\n",
              "      <th>1</th>\n",
              "      <td>0.046729</td>\n",
              "      <td>0.32735</td>\n",
              "      <td>0.541326</td>\n",
              "      <td>0.225345</td>\n",
              "      <td>0.682140</td>\n",
              "      <td>0.215188</td>\n",
              "      <td>0.748871</td>\n",
              "      <td>0.351351</td>\n",
              "      <td>0.782437</td>\n",
              "      <td>0.175506</td>\n",
              "      <td>0.381691</td>\n",
              "      <td>0.375443</td>\n",
              "      <td>0.839872</td>\n",
              "      <td>0.170594</td>\n",
              "      <td>0.651064</td>\n",
              "      <td>0.173329</td>\n",
              "      <td>0.660155</td>\n",
              "      <td>0.226500</td>\n",
              "      <td>0.678532</td>\n",
              "      <td>0.369239</td>\n",
              "      <td>0.100000</td>\n",
              "      <td>0.894737</td>\n",
              "      <td>0.476190</td>\n",
              "      <td>0.894872</td>\n",
              "      <td>0.533937</td>\n",
              "      <td>0.372083</td>\n",
              "      <td>0.372083</td>\n",
              "    </tr>\n",
              "    <tr>\n",
              "      <th>2</th>\n",
              "      <td>0.037383</td>\n",
              "      <td>0.32735</td>\n",
              "      <td>0.530502</td>\n",
              "      <td>0.225345</td>\n",
              "      <td>0.679445</td>\n",
              "      <td>0.215188</td>\n",
              "      <td>0.755569</td>\n",
              "      <td>0.344745</td>\n",
              "      <td>0.778062</td>\n",
              "      <td>0.175506</td>\n",
              "      <td>0.380037</td>\n",
              "      <td>0.367487</td>\n",
              "      <td>0.830704</td>\n",
              "      <td>0.170594</td>\n",
              "      <td>0.646572</td>\n",
              "      <td>0.173329</td>\n",
              "      <td>0.655586</td>\n",
              "      <td>0.219563</td>\n",
              "      <td>0.676049</td>\n",
              "      <td>0.365488</td>\n",
              "      <td>0.102326</td>\n",
              "      <td>0.894737</td>\n",
              "      <td>0.452381</td>\n",
              "      <td>0.835897</td>\n",
              "      <td>0.529412</td>\n",
              "      <td>0.572848</td>\n",
              "      <td>0.572848</td>\n",
              "    </tr>\n",
              "    <tr>\n",
              "      <th>3</th>\n",
              "      <td>0.037383</td>\n",
              "      <td>0.32735</td>\n",
              "      <td>0.524080</td>\n",
              "      <td>0.225345</td>\n",
              "      <td>0.678414</td>\n",
              "      <td>0.215188</td>\n",
              "      <td>0.758685</td>\n",
              "      <td>0.341441</td>\n",
              "      <td>0.770949</td>\n",
              "      <td>0.175506</td>\n",
              "      <td>0.380037</td>\n",
              "      <td>0.363800</td>\n",
              "      <td>0.833401</td>\n",
              "      <td>0.164310</td>\n",
              "      <td>0.641489</td>\n",
              "      <td>0.164175</td>\n",
              "      <td>0.650788</td>\n",
              "      <td>0.219563</td>\n",
              "      <td>0.671909</td>\n",
              "      <td>0.361736</td>\n",
              "      <td>0.104651</td>\n",
              "      <td>0.894737</td>\n",
              "      <td>0.428571</td>\n",
              "      <td>0.776923</td>\n",
              "      <td>0.524887</td>\n",
              "      <td>0.908261</td>\n",
              "      <td>0.908261</td>\n",
              "    </tr>\n",
              "    <tr>\n",
              "      <th>4</th>\n",
              "      <td>0.046729</td>\n",
              "      <td>0.32735</td>\n",
              "      <td>0.531419</td>\n",
              "      <td>0.225345</td>\n",
              "      <td>0.676727</td>\n",
              "      <td>0.215188</td>\n",
              "      <td>0.758685</td>\n",
              "      <td>0.341441</td>\n",
              "      <td>0.762697</td>\n",
              "      <td>0.178691</td>\n",
              "      <td>0.380037</td>\n",
              "      <td>0.361859</td>\n",
              "      <td>0.848264</td>\n",
              "      <td>0.170594</td>\n",
              "      <td>0.639362</td>\n",
              "      <td>0.164175</td>\n",
              "      <td>0.650788</td>\n",
              "      <td>0.219563</td>\n",
              "      <td>0.671909</td>\n",
              "      <td>0.357985</td>\n",
              "      <td>0.106977</td>\n",
              "      <td>0.894737</td>\n",
              "      <td>0.404762</td>\n",
              "      <td>0.717949</td>\n",
              "      <td>0.520362</td>\n",
              "      <td>0.201611</td>\n",
              "      <td>0.201611</td>\n",
              "    </tr>\n",
              "  </tbody>\n",
              "</table>\n",
              "</div>"
            ],
            "text/plain": [
              "   Appliances       T1      RH_1  ...  Tdewpoint       rv1       rv2\n",
              "0    0.046729  0.32735  0.566187  ...   0.538462  0.265449  0.265449\n",
              "1    0.046729  0.32735  0.541326  ...   0.533937  0.372083  0.372083\n",
              "2    0.037383  0.32735  0.530502  ...   0.529412  0.572848  0.572848\n",
              "3    0.037383  0.32735  0.524080  ...   0.524887  0.908261  0.908261\n",
              "4    0.046729  0.32735  0.531419  ...   0.520362  0.201611  0.201611\n",
              "\n",
              "[5 rows x 27 columns]"
            ]
          },
          "metadata": {
            "tags": []
          },
          "execution_count": 11
        }
      ]
    },
    {
      "cell_type": "code",
      "metadata": {
        "id": "qcxWBl4HuVt9",
        "colab_type": "code",
        "colab": {}
      },
      "source": [
        "y = normalised_df['Appliances']\n",
        "x = normalised_df.drop(['Appliances'], axis = 1)"
      ],
      "execution_count": 12,
      "outputs": []
    },
    {
      "cell_type": "code",
      "metadata": {
        "id": "uPyKuqDIurpW",
        "colab_type": "code",
        "colab": {}
      },
      "source": [
        "from sklearn.model_selection import train_test_split\n"
      ],
      "execution_count": 13,
      "outputs": []
    },
    {
      "cell_type": "code",
      "metadata": {
        "id": "yNoFmpQnuyDw",
        "colab_type": "code",
        "colab": {}
      },
      "source": [
        "x_train, x_test, y_train, y_test = train_test_split(x,y, test_size=0.3, random_state=42)"
      ],
      "execution_count": 14,
      "outputs": []
    },
    {
      "cell_type": "code",
      "metadata": {
        "id": "emDAQ8vKvNgn",
        "colab_type": "code",
        "colab": {}
      },
      "source": [
        "from sklearn.linear_model import LinearRegression"
      ],
      "execution_count": 15,
      "outputs": []
    },
    {
      "cell_type": "code",
      "metadata": {
        "id": "dbPDO6uivc85",
        "colab_type": "code",
        "colab": {
          "base_uri": "https://localhost:8080/",
          "height": 34
        },
        "outputId": "dfbfbe3e-01e2-48a9-e6ec-3d7fdd70a8f5"
      },
      "source": [
        "model = LinearRegression()\n",
        "model.fit(x_train, y_train)"
      ],
      "execution_count": 127,
      "outputs": [
        {
          "output_type": "execute_result",
          "data": {
            "text/plain": [
              "LinearRegression(copy_X=True, fit_intercept=True, n_jobs=None, normalize=False)"
            ]
          },
          "metadata": {
            "tags": []
          },
          "execution_count": 127
        }
      ]
    },
    {
      "cell_type": "code",
      "metadata": {
        "id": "8S2Jkw43v0pA",
        "colab_type": "code",
        "colab": {}
      },
      "source": [
        "y_pred = model.predict(x_test)\n"
      ],
      "execution_count": 128,
      "outputs": []
    },
    {
      "cell_type": "code",
      "metadata": {
        "id": "dblqO1iEwOVf",
        "colab_type": "code",
        "colab": {
          "base_uri": "https://localhost:8080/",
          "height": 51
        },
        "outputId": "8f169ec4-b4bd-4d57-9492-f66af8b40b28"
      },
      "source": [
        "y_pred"
      ],
      "execution_count": 129,
      "outputs": [
        {
          "output_type": "execute_result",
          "data": {
            "text/plain": [
              "array([0.03322207, 0.24411599, 0.03400024, ..., 0.06844707, 0.10032325,\n",
              "       0.05722198])"
            ]
          },
          "metadata": {
            "tags": []
          },
          "execution_count": 129
        }
      ]
    },
    {
      "cell_type": "code",
      "metadata": {
        "id": "RX4jqeTuv5C9",
        "colab_type": "code",
        "colab": {
          "base_uri": "https://localhost:8080/",
          "height": 71
        },
        "outputId": "4e92f464-bb2d-4942-d556-b96b509a2e7b"
      },
      "source": [
        "import seaborn as sns\n",
        "%matplotlib inline"
      ],
      "execution_count": 19,
      "outputs": [
        {
          "output_type": "stream",
          "text": [
            "/usr/local/lib/python3.6/dist-packages/statsmodels/tools/_testing.py:19: FutureWarning: pandas.util.testing is deprecated. Use the functions in the public API at pandas.testing instead.\n",
            "  import pandas.util.testing as tm\n"
          ],
          "name": "stderr"
        }
      ]
    },
    {
      "cell_type": "code",
      "metadata": {
        "id": "r4xybQ-yzOtz",
        "colab_type": "code",
        "colab": {
          "base_uri": "https://localhost:8080/",
          "height": 34
        },
        "outputId": "f340045c-ea4d-402c-c235-37ed667eed92"
      },
      "source": [
        "from sklearn.metrics import mean_absolute_error\n",
        "mae = mean_absolute_error(y_test, y_pred)\n",
        "round(mae, 3)"
      ],
      "execution_count": 22,
      "outputs": [
        {
          "output_type": "execute_result",
          "data": {
            "text/plain": [
              "0.05"
            ]
          },
          "metadata": {
            "tags": []
          },
          "execution_count": 22
        }
      ]
    },
    {
      "cell_type": "code",
      "metadata": {
        "id": "UDiWKovU3we4",
        "colab_type": "code",
        "colab": {
          "base_uri": "https://localhost:8080/",
          "height": 34
        },
        "outputId": "bdf43460-5810-4cdf-c8f0-89724d2a5dd6"
      },
      "source": [
        "from sklearn.metrics import r2_score\n",
        "r2_score = r2_score(y_test, y_lasso)\n",
        "round(r2_score, 3)"
      ],
      "execution_count": 46,
      "outputs": [
        {
          "output_type": "execute_result",
          "data": {
            "text/plain": [
              "0.149"
            ]
          },
          "metadata": {
            "tags": []
          },
          "execution_count": 46
        }
      ]
    },
    {
      "cell_type": "code",
      "metadata": {
        "id": "nCbx02h6x2ki",
        "colab_type": "code",
        "colab": {}
      },
      "source": [
        "import numpy as np\n"
      ],
      "execution_count": 25,
      "outputs": []
    },
    {
      "cell_type": "code",
      "metadata": {
        "id": "2ALX_sDp3118",
        "colab_type": "code",
        "colab": {
          "base_uri": "https://localhost:8080/",
          "height": 34
        },
        "outputId": "4e814edd-d929-4aad-c6ff-5bcbce7bb4cd"
      },
      "source": [
        "from sklearn.metrics import  mean_squared_error\n",
        "rmse = np.sqrt(mean_squared_error(y_test, y_lasso))\n",
        "round(rmse, 3)"
      ],
      "execution_count": 134,
      "outputs": [
        {
          "output_type": "execute_result",
          "data": {
            "text/plain": [
              "0.094"
            ]
          },
          "metadata": {
            "tags": []
          },
          "execution_count": 134
        }
      ]
    },
    {
      "cell_type": "code",
      "metadata": {
        "id": "z6QTCjfe4J9J",
        "colab_type": "code",
        "colab": {
          "base_uri": "https://localhost:8080/",
          "height": 68
        },
        "outputId": "f7322968-59ec-42b9-d3b8-a7d7aff6c623"
      },
      "source": [
        "from sklearn.linear_model import Lasso\n",
        "lasso_reg = Lasso(alpha=0.001)\n",
        "lasso_reg.fit(x_train, y_train)"
      ],
      "execution_count": 121,
      "outputs": [
        {
          "output_type": "execute_result",
          "data": {
            "text/plain": [
              "Lasso(alpha=0.001, copy_X=True, fit_intercept=True, max_iter=1000,\n",
              "      normalize=False, positive=False, precompute=False, random_state=None,\n",
              "      selection='cyclic', tol=0.0001, warm_start=False)"
            ]
          },
          "metadata": {
            "tags": []
          },
          "execution_count": 121
        }
      ]
    },
    {
      "cell_type": "code",
      "metadata": {
        "id": "b3-IOHm1zhoK",
        "colab_type": "code",
        "colab": {
          "base_uri": "https://localhost:8080/",
          "height": 51
        },
        "outputId": "b1a95e62-9f1f-44f9-c478-60698128a702"
      },
      "source": [
        "print(lasso_reg.coef_)"
      ],
      "execution_count": 53,
      "outputs": [
        {
          "output_type": "stream",
          "text": [
            "[ 0.  0.  0. -0.  0.  0.  0.  0.  0.  0.  0. -0.  0. -0.  0. -0.  0. -0.\n",
            "  0. -0. -0.  0.  0.  0. -0. -0.]\n"
          ],
          "name": "stdout"
        }
      ]
    },
    {
      "cell_type": "code",
      "metadata": {
        "id": "_Btx-gdD5r1B",
        "colab_type": "code",
        "colab": {}
      },
      "source": [
        "y_lasso = lasso_reg.predict(x_test)"
      ],
      "execution_count": 122,
      "outputs": []
    },
    {
      "cell_type": "code",
      "metadata": {
        "id": "BIFaZxqn6vKw",
        "colab_type": "code",
        "colab": {}
      },
      "source": [
        "from sklearn.linear_model import Ridge"
      ],
      "execution_count": 30,
      "outputs": []
    },
    {
      "cell_type": "code",
      "metadata": {
        "id": "xrouI4qz9d7h",
        "colab_type": "code",
        "colab": {}
      },
      "source": [
        "modelRidge = Ridge(alpha=0.4)"
      ],
      "execution_count": 117,
      "outputs": []
    },
    {
      "cell_type": "code",
      "metadata": {
        "id": "bJp9_BMm9oa_",
        "colab_type": "code",
        "colab": {
          "base_uri": "https://localhost:8080/",
          "height": 51
        },
        "outputId": "5850a332-e8a9-4b32-9948-998b8221ccff"
      },
      "source": [
        "modelRidge.fit(x_train, y_train)"
      ],
      "execution_count": 118,
      "outputs": [
        {
          "output_type": "execute_result",
          "data": {
            "text/plain": [
              "Ridge(alpha=0.4, copy_X=True, fit_intercept=True, max_iter=None,\n",
              "      normalize=False, random_state=None, solver='auto', tol=0.001)"
            ]
          },
          "metadata": {
            "tags": []
          },
          "execution_count": 118
        }
      ]
    },
    {
      "cell_type": "code",
      "metadata": {
        "id": "v_UbNAkC9uKI",
        "colab_type": "code",
        "colab": {}
      },
      "source": [
        "y_ridge = modelRidge.predict(x_test)"
      ],
      "execution_count": 119,
      "outputs": []
    },
    {
      "cell_type": "code",
      "metadata": {
        "id": "chmbHbhox65l",
        "colab_type": "code",
        "colab": {}
      },
      "source": [
        "def get_weights_df(model, feat, col_name):\n",
        "  #this function returns the weight of every feature\n",
        "  weights = pd.Series(model.coef_, feat.columns).sort_values()\n",
        "  weights_df = pd.DataFrame(weights).reset_index()\n",
        "  weights_df.columns = ['Features', col_name]\n",
        "  weights_df[col_name].round(3)\n",
        "  return weights_df"
      ],
      "execution_count": 123,
      "outputs": []
    },
    {
      "cell_type": "code",
      "metadata": {
        "id": "A5C-9vcY0vW0",
        "colab_type": "code",
        "colab": {}
      },
      "source": [
        "linear_model_weights = get_weights_df(model, x_train, 'Linear_Model_Weight')\n",
        "ridge_weights_df = get_weights_df(modelRidge, x_train, 'Ridge_Weight')\n",
        "lasso_weights_df = get_weights_df(lasso_reg, x_train, 'Lasso_weight')"
      ],
      "execution_count": 130,
      "outputs": []
    },
    {
      "cell_type": "code",
      "metadata": {
        "id": "zpZZWCum098R",
        "colab_type": "code",
        "colab": {}
      },
      "source": [
        "final_weights = pd.merge(linear_model_weights, ridge_weights_df, on='Features')\n",
        "final_weights = pd.merge(final_weights, lasso_weights_df, on='Features')"
      ],
      "execution_count": 131,
      "outputs": []
    },
    {
      "cell_type": "code",
      "metadata": {
        "id": "nYe71x4A1A3O",
        "colab_type": "code",
        "colab": {
          "base_uri": "https://localhost:8080/",
          "height": 855
        },
        "outputId": "15f211cf-53bb-4547-82e8-1fe908709353"
      },
      "source": [
        "final_weights"
      ],
      "execution_count": 132,
      "outputs": [
        {
          "output_type": "execute_result",
          "data": {
            "text/html": [
              "<div>\n",
              "<style scoped>\n",
              "    .dataframe tbody tr th:only-of-type {\n",
              "        vertical-align: middle;\n",
              "    }\n",
              "\n",
              "    .dataframe tbody tr th {\n",
              "        vertical-align: top;\n",
              "    }\n",
              "\n",
              "    .dataframe thead th {\n",
              "        text-align: right;\n",
              "    }\n",
              "</style>\n",
              "<table border=\"1\" class=\"dataframe\">\n",
              "  <thead>\n",
              "    <tr style=\"text-align: right;\">\n",
              "      <th></th>\n",
              "      <th>Features</th>\n",
              "      <th>Linear_Model_Weight</th>\n",
              "      <th>Ridge_Weight</th>\n",
              "      <th>Lasso_weight</th>\n",
              "    </tr>\n",
              "  </thead>\n",
              "  <tbody>\n",
              "    <tr>\n",
              "      <th>0</th>\n",
              "      <td>RH_2</td>\n",
              "      <td>-0.456698</td>\n",
              "      <td>-0.411071</td>\n",
              "      <td>-0.000000</td>\n",
              "    </tr>\n",
              "    <tr>\n",
              "      <th>1</th>\n",
              "      <td>T_out</td>\n",
              "      <td>-0.321860</td>\n",
              "      <td>-0.262172</td>\n",
              "      <td>0.000000</td>\n",
              "    </tr>\n",
              "    <tr>\n",
              "      <th>2</th>\n",
              "      <td>T2</td>\n",
              "      <td>-0.236178</td>\n",
              "      <td>-0.201397</td>\n",
              "      <td>0.000000</td>\n",
              "    </tr>\n",
              "    <tr>\n",
              "      <th>3</th>\n",
              "      <td>T9</td>\n",
              "      <td>-0.189941</td>\n",
              "      <td>-0.188916</td>\n",
              "      <td>-0.000000</td>\n",
              "    </tr>\n",
              "    <tr>\n",
              "      <th>4</th>\n",
              "      <td>RH_8</td>\n",
              "      <td>-0.157595</td>\n",
              "      <td>-0.156830</td>\n",
              "      <td>-0.000110</td>\n",
              "    </tr>\n",
              "    <tr>\n",
              "      <th>5</th>\n",
              "      <td>RH_out</td>\n",
              "      <td>-0.077671</td>\n",
              "      <td>-0.054724</td>\n",
              "      <td>-0.049557</td>\n",
              "    </tr>\n",
              "    <tr>\n",
              "      <th>6</th>\n",
              "      <td>RH_7</td>\n",
              "      <td>-0.044614</td>\n",
              "      <td>-0.045977</td>\n",
              "      <td>-0.000000</td>\n",
              "    </tr>\n",
              "    <tr>\n",
              "      <th>7</th>\n",
              "      <td>RH_9</td>\n",
              "      <td>-0.039800</td>\n",
              "      <td>-0.041367</td>\n",
              "      <td>-0.000000</td>\n",
              "    </tr>\n",
              "    <tr>\n",
              "      <th>8</th>\n",
              "      <td>T5</td>\n",
              "      <td>-0.015657</td>\n",
              "      <td>-0.019853</td>\n",
              "      <td>-0.000000</td>\n",
              "    </tr>\n",
              "    <tr>\n",
              "      <th>9</th>\n",
              "      <td>T1</td>\n",
              "      <td>-0.003281</td>\n",
              "      <td>-0.018406</td>\n",
              "      <td>0.000000</td>\n",
              "    </tr>\n",
              "    <tr>\n",
              "      <th>10</th>\n",
              "      <td>rv1</td>\n",
              "      <td>0.000770</td>\n",
              "      <td>0.000748</td>\n",
              "      <td>-0.000000</td>\n",
              "    </tr>\n",
              "    <tr>\n",
              "      <th>11</th>\n",
              "      <td>rv2</td>\n",
              "      <td>0.000770</td>\n",
              "      <td>0.000748</td>\n",
              "      <td>-0.000000</td>\n",
              "    </tr>\n",
              "    <tr>\n",
              "      <th>12</th>\n",
              "      <td>Press_mm_hg</td>\n",
              "      <td>0.006839</td>\n",
              "      <td>0.006584</td>\n",
              "      <td>-0.000000</td>\n",
              "    </tr>\n",
              "    <tr>\n",
              "      <th>13</th>\n",
              "      <td>T7</td>\n",
              "      <td>0.010319</td>\n",
              "      <td>0.010098</td>\n",
              "      <td>-0.000000</td>\n",
              "    </tr>\n",
              "    <tr>\n",
              "      <th>14</th>\n",
              "      <td>Visibility</td>\n",
              "      <td>0.012307</td>\n",
              "      <td>0.012076</td>\n",
              "      <td>0.000000</td>\n",
              "    </tr>\n",
              "    <tr>\n",
              "      <th>15</th>\n",
              "      <td>RH_5</td>\n",
              "      <td>0.016006</td>\n",
              "      <td>0.016152</td>\n",
              "      <td>0.000000</td>\n",
              "    </tr>\n",
              "    <tr>\n",
              "      <th>16</th>\n",
              "      <td>RH_4</td>\n",
              "      <td>0.026386</td>\n",
              "      <td>0.024579</td>\n",
              "      <td>0.000000</td>\n",
              "    </tr>\n",
              "    <tr>\n",
              "      <th>17</th>\n",
              "      <td>T4</td>\n",
              "      <td>0.028981</td>\n",
              "      <td>0.027384</td>\n",
              "      <td>-0.000000</td>\n",
              "    </tr>\n",
              "    <tr>\n",
              "      <th>18</th>\n",
              "      <td>Windspeed</td>\n",
              "      <td>0.029183</td>\n",
              "      <td>0.030268</td>\n",
              "      <td>0.002912</td>\n",
              "    </tr>\n",
              "    <tr>\n",
              "      <th>19</th>\n",
              "      <td>RH_6</td>\n",
              "      <td>0.038049</td>\n",
              "      <td>0.035519</td>\n",
              "      <td>-0.000000</td>\n",
              "    </tr>\n",
              "    <tr>\n",
              "      <th>20</th>\n",
              "      <td>RH_3</td>\n",
              "      <td>0.096048</td>\n",
              "      <td>0.095135</td>\n",
              "      <td>0.000000</td>\n",
              "    </tr>\n",
              "    <tr>\n",
              "      <th>21</th>\n",
              "      <td>T8</td>\n",
              "      <td>0.101995</td>\n",
              "      <td>0.101028</td>\n",
              "      <td>0.000000</td>\n",
              "    </tr>\n",
              "    <tr>\n",
              "      <th>22</th>\n",
              "      <td>Tdewpoint</td>\n",
              "      <td>0.117758</td>\n",
              "      <td>0.083128</td>\n",
              "      <td>0.000000</td>\n",
              "    </tr>\n",
              "    <tr>\n",
              "      <th>23</th>\n",
              "      <td>T6</td>\n",
              "      <td>0.236425</td>\n",
              "      <td>0.217292</td>\n",
              "      <td>0.000000</td>\n",
              "    </tr>\n",
              "    <tr>\n",
              "      <th>24</th>\n",
              "      <td>T3</td>\n",
              "      <td>0.290627</td>\n",
              "      <td>0.288087</td>\n",
              "      <td>0.000000</td>\n",
              "    </tr>\n",
              "    <tr>\n",
              "      <th>25</th>\n",
              "      <td>RH_1</td>\n",
              "      <td>0.553547</td>\n",
              "      <td>0.519525</td>\n",
              "      <td>0.017880</td>\n",
              "    </tr>\n",
              "  </tbody>\n",
              "</table>\n",
              "</div>"
            ],
            "text/plain": [
              "       Features  Linear_Model_Weight  Ridge_Weight  Lasso_weight\n",
              "0          RH_2            -0.456698     -0.411071     -0.000000\n",
              "1         T_out            -0.321860     -0.262172      0.000000\n",
              "2            T2            -0.236178     -0.201397      0.000000\n",
              "3            T9            -0.189941     -0.188916     -0.000000\n",
              "4          RH_8            -0.157595     -0.156830     -0.000110\n",
              "5        RH_out            -0.077671     -0.054724     -0.049557\n",
              "6          RH_7            -0.044614     -0.045977     -0.000000\n",
              "7          RH_9            -0.039800     -0.041367     -0.000000\n",
              "8            T5            -0.015657     -0.019853     -0.000000\n",
              "9            T1            -0.003281     -0.018406      0.000000\n",
              "10          rv1             0.000770      0.000748     -0.000000\n",
              "11          rv2             0.000770      0.000748     -0.000000\n",
              "12  Press_mm_hg             0.006839      0.006584     -0.000000\n",
              "13           T7             0.010319      0.010098     -0.000000\n",
              "14   Visibility             0.012307      0.012076      0.000000\n",
              "15         RH_5             0.016006      0.016152      0.000000\n",
              "16         RH_4             0.026386      0.024579      0.000000\n",
              "17           T4             0.028981      0.027384     -0.000000\n",
              "18    Windspeed             0.029183      0.030268      0.002912\n",
              "19         RH_6             0.038049      0.035519     -0.000000\n",
              "20         RH_3             0.096048      0.095135      0.000000\n",
              "21           T8             0.101995      0.101028      0.000000\n",
              "22    Tdewpoint             0.117758      0.083128      0.000000\n",
              "23           T6             0.236425      0.217292      0.000000\n",
              "24           T3             0.290627      0.288087      0.000000\n",
              "25         RH_1             0.553547      0.519525      0.017880"
            ]
          },
          "metadata": {
            "tags": []
          },
          "execution_count": 132
        }
      ]
    },
    {
      "cell_type": "code",
      "metadata": {
        "id": "w7gRudTZMVmO",
        "colab_type": "code",
        "colab": {}
      },
      "source": [
        ""
      ],
      "execution_count": null,
      "outputs": []
    },
    {
      "cell_type": "code",
      "metadata": {
        "colab_type": "code",
        "id": "f5TWg1ApMX6f",
        "colab": {
          "base_uri": "https://localhost:8080/",
          "height": 51
        },
        "outputId": "d1847522-1237-4c19-836e-804df127a7f8"
      },
      "source": [
        "print(final_weights['Linear_Model_Weight'].max())\n",
        "print(final_weights['Linear_Model_Weight'].min())"
      ],
      "execution_count": 116,
      "outputs": [
        {
          "output_type": "stream",
          "text": [
            "0.5535465998386391\n",
            "-0.4566979483384996\n"
          ],
          "name": "stdout"
        }
      ]
    },
    {
      "cell_type": "code",
      "metadata": {
        "id": "s4b_cWkv1F1Z",
        "colab_type": "code",
        "colab": {}
      },
      "source": [
        "from sklearn.linear_model import LassoCV"
      ],
      "execution_count": 59,
      "outputs": []
    },
    {
      "cell_type": "code",
      "metadata": {
        "id": "gxhzhDwj3GXf",
        "colab_type": "code",
        "colab": {}
      },
      "source": [
        "lassoCV = LassoCV(cv=29).fit(x_train, y_train)\n"
      ],
      "execution_count": 68,
      "outputs": []
    },
    {
      "cell_type": "code",
      "metadata": {
        "id": "gW1UKoLr3f3X",
        "colab_type": "code",
        "colab": {
          "base_uri": "https://localhost:8080/",
          "height": 34
        },
        "outputId": "c71d3fe4-ca8f-48d8-f23b-7d2a25c7fdfa"
      },
      "source": [
        "lassoCV.score(x_train, y_train)"
      ],
      "execution_count": 71,
      "outputs": [
        {
          "output_type": "execute_result",
          "data": {
            "text/plain": [
              "0.14468423310513212"
            ]
          },
          "metadata": {
            "tags": []
          },
          "execution_count": 71
        }
      ]
    },
    {
      "cell_type": "code",
      "metadata": {
        "id": "6iAT-wRF3iUy",
        "colab_type": "code",
        "colab": {}
      },
      "source": [
        "y_lasso_cv = lassoCV.predict(x_test)"
      ],
      "execution_count": 81,
      "outputs": []
    },
    {
      "cell_type": "code",
      "metadata": {
        "id": "5SYy-Eok8cxg",
        "colab_type": "code",
        "colab": {
          "base_uri": "https://localhost:8080/",
          "height": 34
        },
        "outputId": "e89f47fd-9efe-419b-d1eb-3bbd8d79e359"
      },
      "source": [
        "rmse = np.sqrt(mean_squared_error(y_test, y_lasso_cv))\n",
        "round(rmse, 3)"
      ],
      "execution_count": 82,
      "outputs": [
        {
          "output_type": "execute_result",
          "data": {
            "text/plain": [
              "0.088"
            ]
          },
          "metadata": {
            "tags": []
          },
          "execution_count": 82
        }
      ]
    },
    {
      "cell_type": "code",
      "metadata": {
        "id": "d9hUAh2A8zYl",
        "colab_type": "code",
        "colab": {}
      },
      "source": [
        "from sklearn.feature_selection import SelectKBest\n",
        "from sklearn.feature_selection import f_regression\n",
        "fs = SelectKBest(score_func=f_regression, k=5)"
      ],
      "execution_count": 97,
      "outputs": []
    },
    {
      "cell_type": "code",
      "metadata": {
        "id": "kgfhxiOp9Yku",
        "colab_type": "code",
        "colab": {
          "base_uri": "https://localhost:8080/",
          "height": 34
        },
        "outputId": "b341c11e-0384-440f-a1af-008d2569e22f"
      },
      "source": [
        "fs.fit(x_train,y_train)"
      ],
      "execution_count": 103,
      "outputs": [
        {
          "output_type": "execute_result",
          "data": {
            "text/plain": [
              "SelectKBest(k=5, score_func=<function f_regression at 0x7fe8bca131e0>)"
            ]
          },
          "metadata": {
            "tags": []
          },
          "execution_count": 103
        }
      ]
    },
    {
      "cell_type": "code",
      "metadata": {
        "id": "Aev6dGlpCmRx",
        "colab_type": "code",
        "colab": {}
      },
      "source": [
        "df_fs5 = fs.transform(x_train)\n",
        "\n",
        "df_fs5_test = fs.transform(x_test)"
      ],
      "execution_count": 106,
      "outputs": []
    },
    {
      "cell_type": "code",
      "metadata": {
        "id": "-Bx6iaYUGXqU",
        "colab_type": "code",
        "colab": {}
      },
      "source": [
        "y_pred = y_pred.astype(float)"
      ],
      "execution_count": 114,
      "outputs": []
    },
    {
      "cell_type": "code",
      "metadata": {
        "id": "o5f1707gHfeq",
        "colab_type": "code",
        "colab": {}
      },
      "source": [
        ""
      ],
      "execution_count": null,
      "outputs": []
    }
  ]
}